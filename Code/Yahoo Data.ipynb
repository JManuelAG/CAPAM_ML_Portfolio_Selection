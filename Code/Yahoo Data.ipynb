{
 "cells": [
  {
   "attachments": {},
   "cell_type": "markdown",
   "metadata": {},
   "source": [
    "PANDAS_DATAREADER"
   ]
  },
  {
   "cell_type": "code",
   "execution_count": 8,
   "metadata": {},
   "outputs": [
    {
     "ename": "ValueError",
     "evalue": "Only the string 'symbols' is supported for Nasdaq, not 'GOOGL'",
     "output_type": "error",
     "traceback": [
      "\u001b[1;31m---------------------------------------------------------------------------\u001b[0m",
      "\u001b[1;31mValueError\u001b[0m                                Traceback (most recent call last)",
      "\u001b[1;32mc:\\Users\\jmanu\\OneDrive - University of South Australia\\_Other\\Fun Pandas\\Pandas_Finance\\Yahoo Data.ipynb Cell 2\u001b[0m in \u001b[0;36m<cell line: 9>\u001b[1;34m()\u001b[0m\n\u001b[0;32m      <a href='vscode-notebook-cell:/c%3A/Users/jmanu/OneDrive%20-%20University%20of%20South%20Australia/_Other/Fun%20Pandas/Pandas_Finance/Yahoo%20Data.ipynb#W2sZmlsZQ%3D%3D?line=5'>6</a>\u001b[0m end_date \u001b[39m=\u001b[39m \u001b[39m'\u001b[39m\u001b[39m2021-12-31\u001b[39m\u001b[39m'\u001b[39m  \u001b[39m# Replace with your desired end date\u001b[39;00m\n\u001b[0;32m      <a href='vscode-notebook-cell:/c%3A/Users/jmanu/OneDrive%20-%20University%20of%20South%20Australia/_Other/Fun%20Pandas/Pandas_Finance/Yahoo%20Data.ipynb#W2sZmlsZQ%3D%3D?line=7'>8</a>\u001b[0m \u001b[39m# Fetch stock data from Yahoo Finance using pandas_datareader\u001b[39;00m\n\u001b[1;32m----> <a href='vscode-notebook-cell:/c%3A/Users/jmanu/OneDrive%20-%20University%20of%20South%20Australia/_Other/Fun%20Pandas/Pandas_Finance/Yahoo%20Data.ipynb#W2sZmlsZQ%3D%3D?line=8'>9</a>\u001b[0m data \u001b[39m=\u001b[39m web\u001b[39m.\u001b[39;49mDataReader(\u001b[39m'\u001b[39;49m\u001b[39mGOOGL\u001b[39;49m\u001b[39m'\u001b[39;49m, \u001b[39m'\u001b[39;49m\u001b[39mnasdaq\u001b[39;49m\u001b[39m'\u001b[39;49m)\n\u001b[0;32m     <a href='vscode-notebook-cell:/c%3A/Users/jmanu/OneDrive%20-%20University%20of%20South%20Australia/_Other/Fun%20Pandas/Pandas_Finance/Yahoo%20Data.ipynb#W2sZmlsZQ%3D%3D?line=10'>11</a>\u001b[0m \u001b[39m# Perform any necessary data preprocessing, such as scaling or normalization\u001b[39;00m\n\u001b[0;32m     <a href='vscode-notebook-cell:/c%3A/Users/jmanu/OneDrive%20-%20University%20of%20South%20Australia/_Other/Fun%20Pandas/Pandas_Finance/Yahoo%20Data.ipynb#W2sZmlsZQ%3D%3D?line=11'>12</a>\u001b[0m \u001b[39m# Ensure that your dataset has features and corresponding expected returns\u001b[39;00m\n\u001b[0;32m     <a href='vscode-notebook-cell:/c%3A/Users/jmanu/OneDrive%20-%20University%20of%20South%20Australia/_Other/Fun%20Pandas/Pandas_Finance/Yahoo%20Data.ipynb#W2sZmlsZQ%3D%3D?line=12'>13</a>\u001b[0m features \u001b[39m=\u001b[39m data[\u001b[39m'\u001b[39m\u001b[39mAdj Close\u001b[39m\u001b[39m'\u001b[39m]  \u001b[39m# Replace with your actual features\u001b[39;00m\n",
      "File \u001b[1;32mc:\\Users\\jmanu\\anaconda3\\lib\\site-packages\\pandas\\util\\_decorators.py:210\u001b[0m, in \u001b[0;36mdeprecate_kwarg.<locals>._deprecate_kwarg.<locals>.wrapper\u001b[1;34m(*args, **kwargs)\u001b[0m\n\u001b[0;32m    208\u001b[0m         \u001b[39mraise\u001b[39;00m \u001b[39mTypeError\u001b[39;00m(msg)\n\u001b[0;32m    209\u001b[0m     kwargs[new_arg_name] \u001b[39m=\u001b[39m new_arg_value\n\u001b[1;32m--> 210\u001b[0m \u001b[39mreturn\u001b[39;00m func(\u001b[39m*\u001b[39margs, \u001b[39m*\u001b[39m\u001b[39m*\u001b[39mkwargs)\n",
      "File \u001b[1;32mc:\\Users\\jmanu\\anaconda3\\lib\\site-packages\\pandas_datareader\\data.py:494\u001b[0m, in \u001b[0;36mDataReader\u001b[1;34m(name, data_source, start, end, retry_count, pause, session, api_key)\u001b[0m\n\u001b[0;32m    492\u001b[0m \u001b[39melif\u001b[39;00m data_source \u001b[39m==\u001b[39m \u001b[39m\"\u001b[39m\u001b[39mnasdaq\u001b[39m\u001b[39m\"\u001b[39m:\n\u001b[0;32m    493\u001b[0m     \u001b[39mif\u001b[39;00m name \u001b[39m!=\u001b[39m \u001b[39m\"\u001b[39m\u001b[39msymbols\u001b[39m\u001b[39m\"\u001b[39m:\n\u001b[1;32m--> 494\u001b[0m         \u001b[39mraise\u001b[39;00m \u001b[39mValueError\u001b[39;00m(\n\u001b[0;32m    495\u001b[0m             \u001b[39m\"\u001b[39m\u001b[39mOnly the string \u001b[39m\u001b[39m'\u001b[39m\u001b[39msymbols\u001b[39m\u001b[39m'\u001b[39m\u001b[39m is supported for \u001b[39m\u001b[39m\"\u001b[39m \u001b[39m\"\u001b[39m\u001b[39mNasdaq, not \u001b[39m\u001b[39m%r\u001b[39;00m\u001b[39m\"\u001b[39m \u001b[39m%\u001b[39m (name,)\n\u001b[0;32m    496\u001b[0m         )\n\u001b[0;32m    497\u001b[0m     \u001b[39mreturn\u001b[39;00m get_nasdaq_symbols(retry_count\u001b[39m=\u001b[39mretry_count, pause\u001b[39m=\u001b[39mpause)\n\u001b[0;32m    499\u001b[0m \u001b[39melif\u001b[39;00m data_source \u001b[39m==\u001b[39m \u001b[39m\"\u001b[39m\u001b[39mquandl\u001b[39m\u001b[39m\"\u001b[39m:\n",
      "\u001b[1;31mValueError\u001b[0m: Only the string 'symbols' is supported for Nasdaq, not 'GOOGL'"
     ]
    }
   ],
   "source": [
    "import pandas_datareader.data as web\n",
    "\n",
    "# Define the stock symbols and the date range for the data\n",
    "stock_symbols = ['AAPL', 'GOOGL', 'MSFT']  # Replace with your desired stock symbols\n",
    "start_date = '2018-01-01'  # Replace with your desired start date\n",
    "end_date = '2021-12-31'  # Replace with your desired end date\n",
    "\n",
    "# Fetch stock data from Yahoo Finance using pandas_datareader\n",
    "data = web.DataReader('GOOGL', 'nasdaq')\n",
    "\n",
    "# Perform any necessary data preprocessing, such as scaling or normalization\n",
    "# Ensure that your dataset has features and corresponding expected returns\n",
    "features = data['Adj Close']  # Replace with your actual features\n",
    "expected_returns = features.pct_change().shift(-1)  # Calculate the next day's returns\n",
    "\n",
    "# Remove the last row since it will have NaN values after calculating returns\n",
    "features = features.iloc[:-1]\n",
    "expected_returns = expected_returns.iloc[:-1]"
   ]
  },
  {
   "cell_type": "code",
   "execution_count": 15,
   "metadata": {},
   "outputs": [
    {
     "name": "stdout",
     "output_type": "stream",
     "text": [
      "[*********************100%***********************]  1 of 1 completed\n"
     ]
    }
   ],
   "source": [
    "import pandas_datareader.data as pdr\n",
    "import yfinance as yf\n",
    "yf.pdr_override()\n",
    "from datetime import datetime\n",
    "data = pdr.get_data_yahoo('^GSPC', datetime(1970, 1, 1))\n",
    "data_2 = pdr.DataReader('GOOG', start=start, end=end)\n"
   ]
  },
  {
   "cell_type": "code",
   "execution_count": 20,
   "metadata": {},
   "outputs": [
    {
     "data": {
      "text/html": [
       "<div>\n",
       "<style scoped>\n",
       "    .dataframe tbody tr th:only-of-type {\n",
       "        vertical-align: middle;\n",
       "    }\n",
       "\n",
       "    .dataframe tbody tr th {\n",
       "        vertical-align: top;\n",
       "    }\n",
       "\n",
       "    .dataframe thead th {\n",
       "        text-align: right;\n",
       "    }\n",
       "</style>\n",
       "<table border=\"1\" class=\"dataframe\">\n",
       "  <thead>\n",
       "    <tr style=\"text-align: right;\">\n",
       "      <th></th>\n",
       "      <th>Open</th>\n",
       "      <th>High</th>\n",
       "      <th>Low</th>\n",
       "      <th>Close</th>\n",
       "      <th>Adj Close</th>\n",
       "      <th>Volume</th>\n",
       "    </tr>\n",
       "    <tr>\n",
       "      <th>Date</th>\n",
       "      <th></th>\n",
       "      <th></th>\n",
       "      <th></th>\n",
       "      <th></th>\n",
       "      <th></th>\n",
       "      <th></th>\n",
       "    </tr>\n",
       "  </thead>\n",
       "  <tbody>\n",
       "    <tr>\n",
       "      <th>1970-01-02</th>\n",
       "      <td>0.000000</td>\n",
       "      <td>93.540001</td>\n",
       "      <td>91.790001</td>\n",
       "      <td>93.000000</td>\n",
       "      <td>93.000000</td>\n",
       "      <td>8050000</td>\n",
       "    </tr>\n",
       "    <tr>\n",
       "      <th>1970-01-05</th>\n",
       "      <td>0.000000</td>\n",
       "      <td>94.250000</td>\n",
       "      <td>92.529999</td>\n",
       "      <td>93.459999</td>\n",
       "      <td>93.459999</td>\n",
       "      <td>11490000</td>\n",
       "    </tr>\n",
       "    <tr>\n",
       "      <th>1970-01-06</th>\n",
       "      <td>0.000000</td>\n",
       "      <td>93.809998</td>\n",
       "      <td>92.129997</td>\n",
       "      <td>92.820000</td>\n",
       "      <td>92.820000</td>\n",
       "      <td>11460000</td>\n",
       "    </tr>\n",
       "    <tr>\n",
       "      <th>1970-01-07</th>\n",
       "      <td>0.000000</td>\n",
       "      <td>93.379997</td>\n",
       "      <td>91.930000</td>\n",
       "      <td>92.629997</td>\n",
       "      <td>92.629997</td>\n",
       "      <td>10010000</td>\n",
       "    </tr>\n",
       "    <tr>\n",
       "      <th>1970-01-08</th>\n",
       "      <td>0.000000</td>\n",
       "      <td>93.470001</td>\n",
       "      <td>91.989998</td>\n",
       "      <td>92.680000</td>\n",
       "      <td>92.680000</td>\n",
       "      <td>10670000</td>\n",
       "    </tr>\n",
       "    <tr>\n",
       "      <th>...</th>\n",
       "      <td>...</td>\n",
       "      <td>...</td>\n",
       "      <td>...</td>\n",
       "      <td>...</td>\n",
       "      <td>...</td>\n",
       "      <td>...</td>\n",
       "    </tr>\n",
       "    <tr>\n",
       "      <th>2023-06-05</th>\n",
       "      <td>4282.990234</td>\n",
       "      <td>4299.279785</td>\n",
       "      <td>4266.819824</td>\n",
       "      <td>4273.790039</td>\n",
       "      <td>4273.790039</td>\n",
       "      <td>3813290000</td>\n",
       "    </tr>\n",
       "    <tr>\n",
       "      <th>2023-06-06</th>\n",
       "      <td>4271.339844</td>\n",
       "      <td>4288.330078</td>\n",
       "      <td>4263.089844</td>\n",
       "      <td>4283.850098</td>\n",
       "      <td>4283.850098</td>\n",
       "      <td>3996560000</td>\n",
       "    </tr>\n",
       "    <tr>\n",
       "      <th>2023-06-07</th>\n",
       "      <td>4285.470215</td>\n",
       "      <td>4299.189941</td>\n",
       "      <td>4263.959961</td>\n",
       "      <td>4267.520020</td>\n",
       "      <td>4267.520020</td>\n",
       "      <td>4537800000</td>\n",
       "    </tr>\n",
       "    <tr>\n",
       "      <th>2023-06-08</th>\n",
       "      <td>4268.689941</td>\n",
       "      <td>4298.009766</td>\n",
       "      <td>4261.069824</td>\n",
       "      <td>4293.930176</td>\n",
       "      <td>4293.930176</td>\n",
       "      <td>3826740000</td>\n",
       "    </tr>\n",
       "    <tr>\n",
       "      <th>2023-06-09</th>\n",
       "      <td>4304.879883</td>\n",
       "      <td>4322.620117</td>\n",
       "      <td>4291.700195</td>\n",
       "      <td>4298.859863</td>\n",
       "      <td>4298.859863</td>\n",
       "      <td>3786510000</td>\n",
       "    </tr>\n",
       "  </tbody>\n",
       "</table>\n",
       "<p>13479 rows × 6 columns</p>\n",
       "</div>"
      ],
      "text/plain": [
       "                   Open         High          Low        Close    Adj Close  \\\n",
       "Date                                                                          \n",
       "1970-01-02     0.000000    93.540001    91.790001    93.000000    93.000000   \n",
       "1970-01-05     0.000000    94.250000    92.529999    93.459999    93.459999   \n",
       "1970-01-06     0.000000    93.809998    92.129997    92.820000    92.820000   \n",
       "1970-01-07     0.000000    93.379997    91.930000    92.629997    92.629997   \n",
       "1970-01-08     0.000000    93.470001    91.989998    92.680000    92.680000   \n",
       "...                 ...          ...          ...          ...          ...   \n",
       "2023-06-05  4282.990234  4299.279785  4266.819824  4273.790039  4273.790039   \n",
       "2023-06-06  4271.339844  4288.330078  4263.089844  4283.850098  4283.850098   \n",
       "2023-06-07  4285.470215  4299.189941  4263.959961  4267.520020  4267.520020   \n",
       "2023-06-08  4268.689941  4298.009766  4261.069824  4293.930176  4293.930176   \n",
       "2023-06-09  4304.879883  4322.620117  4291.700195  4298.859863  4298.859863   \n",
       "\n",
       "                Volume  \n",
       "Date                    \n",
       "1970-01-02     8050000  \n",
       "1970-01-05    11490000  \n",
       "1970-01-06    11460000  \n",
       "1970-01-07    10010000  \n",
       "1970-01-08    10670000  \n",
       "...                ...  \n",
       "2023-06-05  3813290000  \n",
       "2023-06-06  3996560000  \n",
       "2023-06-07  4537800000  \n",
       "2023-06-08  3826740000  \n",
       "2023-06-09  3786510000  \n",
       "\n",
       "[13479 rows x 6 columns]"
      ]
     },
     "execution_count": 20,
     "metadata": {},
     "output_type": "execute_result"
    }
   ],
   "source": [
    "data"
   ]
  },
  {
   "attachments": {},
   "cell_type": "markdown",
   "metadata": {},
   "source": [
    "yfinance"
   ]
  },
  {
   "attachments": {},
   "cell_type": "markdown",
   "metadata": {},
   "source": [
    "1.- Stock flutations"
   ]
  },
  {
   "cell_type": "code",
   "execution_count": 21,
   "metadata": {},
   "outputs": [
    {
     "name": "stdout",
     "output_type": "stream",
     "text": [
      "[*********************100%***********************]  3 of 3 completed\n"
     ]
    }
   ],
   "source": [
    "import yfinance as yf\n",
    "\n",
    "# Define the stock symbols and the date range for the data\n",
    "stock_symbols = ['AAPL', 'GOOGL', 'MSFT']  # Replace with your desired stock symbols\n",
    "start_date = '2018-01-01'  # Replace with your desired start date\n",
    "end_date = '2021-12-31'  # Replace with your desired end date\n",
    "\n",
    "# Fetch stock data using yfinance\n",
    "data = yf.download(stock_symbols, start=start_date, end=end_date)"
   ]
  },
  {
   "cell_type": "code",
   "execution_count": 25,
   "metadata": {},
   "outputs": [
    {
     "data": {
      "text/html": [
       "<div>\n",
       "<style scoped>\n",
       "    .dataframe tbody tr th:only-of-type {\n",
       "        vertical-align: middle;\n",
       "    }\n",
       "\n",
       "    .dataframe tbody tr th {\n",
       "        vertical-align: top;\n",
       "    }\n",
       "\n",
       "    .dataframe thead th {\n",
       "        text-align: right;\n",
       "    }\n",
       "</style>\n",
       "<table border=\"1\" class=\"dataframe\">\n",
       "  <thead>\n",
       "    <tr style=\"text-align: right;\">\n",
       "      <th></th>\n",
       "      <th>AAPL</th>\n",
       "      <th>GOOGL</th>\n",
       "      <th>MSFT</th>\n",
       "    </tr>\n",
       "    <tr>\n",
       "      <th>Date</th>\n",
       "      <th></th>\n",
       "      <th></th>\n",
       "      <th></th>\n",
       "    </tr>\n",
       "  </thead>\n",
       "  <tbody>\n",
       "    <tr>\n",
       "      <th>2018-01-02</th>\n",
       "      <td>-0.000174</td>\n",
       "      <td>0.017061</td>\n",
       "      <td>0.004654</td>\n",
       "    </tr>\n",
       "    <tr>\n",
       "      <th>2018-01-03</th>\n",
       "      <td>0.004645</td>\n",
       "      <td>0.003884</td>\n",
       "      <td>0.008801</td>\n",
       "    </tr>\n",
       "    <tr>\n",
       "      <th>2018-01-04</th>\n",
       "      <td>0.011385</td>\n",
       "      <td>0.013260</td>\n",
       "      <td>0.012398</td>\n",
       "    </tr>\n",
       "    <tr>\n",
       "      <th>2018-01-05</th>\n",
       "      <td>-0.003714</td>\n",
       "      <td>0.003531</td>\n",
       "      <td>0.001021</td>\n",
       "    </tr>\n",
       "    <tr>\n",
       "      <th>2018-01-08</th>\n",
       "      <td>-0.000115</td>\n",
       "      <td>-0.001274</td>\n",
       "      <td>-0.000679</td>\n",
       "    </tr>\n",
       "    <tr>\n",
       "      <th>...</th>\n",
       "      <td>...</td>\n",
       "      <td>...</td>\n",
       "      <td>...</td>\n",
       "    </tr>\n",
       "    <tr>\n",
       "      <th>2021-12-23</th>\n",
       "      <td>0.022975</td>\n",
       "      <td>0.006738</td>\n",
       "      <td>0.023186</td>\n",
       "    </tr>\n",
       "    <tr>\n",
       "      <th>2021-12-27</th>\n",
       "      <td>-0.005767</td>\n",
       "      <td>-0.008245</td>\n",
       "      <td>-0.003504</td>\n",
       "    </tr>\n",
       "    <tr>\n",
       "      <th>2021-12-28</th>\n",
       "      <td>0.000502</td>\n",
       "      <td>-0.000218</td>\n",
       "      <td>0.002051</td>\n",
       "    </tr>\n",
       "    <tr>\n",
       "      <th>2021-12-29</th>\n",
       "      <td>-0.006578</td>\n",
       "      <td>-0.003099</td>\n",
       "      <td>-0.007691</td>\n",
       "    </tr>\n",
       "    <tr>\n",
       "      <th>2021-12-30</th>\n",
       "      <td>NaN</td>\n",
       "      <td>NaN</td>\n",
       "      <td>NaN</td>\n",
       "    </tr>\n",
       "  </tbody>\n",
       "</table>\n",
       "<p>1007 rows × 3 columns</p>\n",
       "</div>"
      ],
      "text/plain": [
       "                AAPL     GOOGL      MSFT\n",
       "Date                                    \n",
       "2018-01-02 -0.000174  0.017061  0.004654\n",
       "2018-01-03  0.004645  0.003884  0.008801\n",
       "2018-01-04  0.011385  0.013260  0.012398\n",
       "2018-01-05 -0.003714  0.003531  0.001021\n",
       "2018-01-08 -0.000115 -0.001274 -0.000679\n",
       "...              ...       ...       ...\n",
       "2021-12-23  0.022975  0.006738  0.023186\n",
       "2021-12-27 -0.005767 -0.008245 -0.003504\n",
       "2021-12-28  0.000502 -0.000218  0.002051\n",
       "2021-12-29 -0.006578 -0.003099 -0.007691\n",
       "2021-12-30       NaN       NaN       NaN\n",
       "\n",
       "[1007 rows x 3 columns]"
      ]
     },
     "execution_count": 25,
     "metadata": {},
     "output_type": "execute_result"
    }
   ],
   "source": [
    "data['Adj Close'].pct_change().shift(-1)"
   ]
  },
  {
   "attachments": {},
   "cell_type": "markdown",
   "metadata": {},
   "source": [
    "2.- Financials"
   ]
  },
  {
   "cell_type": "code",
   "execution_count": 66,
   "metadata": {},
   "outputs": [
    {
     "name": "stderr",
     "output_type": "stream",
     "text": [
      "WARNING No decryption keys could be extracted from JS file. Falling back to backup decrypt methods.\n"
     ]
    },
    {
     "ename": "Exception",
     "evalue": "yfinance failed to decrypt Yahoo data response",
     "output_type": "error",
     "traceback": [
      "\u001b[1;31m---------------------------------------------------------------------------\u001b[0m",
      "\u001b[1;31mException\u001b[0m                                 Traceback (most recent call last)",
      "\u001b[1;32mUntitled-1.ipynb Cell 6\u001b[0m in \u001b[0;36m<cell line: 10>\u001b[1;34m()\u001b[0m\n\u001b[0;32m      <a href='vscode-notebook-cell:Untitled-1.ipynb?jupyter-notebook#X30sdW50aXRsZWQ%3D?line=6'>7</a>\u001b[0m stock_data \u001b[39m=\u001b[39m yf\u001b[39m.\u001b[39mTicker(stock_symbol)\n\u001b[0;32m      <a href='vscode-notebook-cell:Untitled-1.ipynb?jupyter-notebook#X30sdW50aXRsZWQ%3D?line=8'>9</a>\u001b[0m \u001b[39m# Get the financial statements\u001b[39;00m\n\u001b[1;32m---> <a href='vscode-notebook-cell:Untitled-1.ipynb?jupyter-notebook#X30sdW50aXRsZWQ%3D?line=9'>10</a>\u001b[0m stock_data\u001b[39m.\u001b[39;49mfinancials\n",
      "File \u001b[1;32mc:\\Users\\jmanu\\anaconda3\\lib\\site-packages\\yfinance\\ticker.py:174\u001b[0m, in \u001b[0;36mTicker.financials\u001b[1;34m(self)\u001b[0m\n\u001b[0;32m    172\u001b[0m \u001b[39m@property\u001b[39m\n\u001b[0;32m    173\u001b[0m \u001b[39mdef\u001b[39;00m \u001b[39mfinancials\u001b[39m(\u001b[39mself\u001b[39m) \u001b[39m-\u001b[39m\u001b[39m>\u001b[39m _pd\u001b[39m.\u001b[39mDataFrame:\n\u001b[1;32m--> 174\u001b[0m     \u001b[39mreturn\u001b[39;00m \u001b[39mself\u001b[39;49m\u001b[39m.\u001b[39;49mincome_stmt\n",
      "File \u001b[1;32mc:\\Users\\jmanu\\anaconda3\\lib\\site-packages\\yfinance\\ticker.py:158\u001b[0m, in \u001b[0;36mTicker.income_stmt\u001b[1;34m(self)\u001b[0m\n\u001b[0;32m    156\u001b[0m \u001b[39m@property\u001b[39m\n\u001b[0;32m    157\u001b[0m \u001b[39mdef\u001b[39;00m \u001b[39mincome_stmt\u001b[39m(\u001b[39mself\u001b[39m) \u001b[39m-\u001b[39m\u001b[39m>\u001b[39m _pd\u001b[39m.\u001b[39mDataFrame:\n\u001b[1;32m--> 158\u001b[0m     \u001b[39mreturn\u001b[39;00m \u001b[39mself\u001b[39;49m\u001b[39m.\u001b[39;49mget_income_stmt(pretty\u001b[39m=\u001b[39;49m\u001b[39mTrue\u001b[39;49;00m)\n",
      "File \u001b[1;32mc:\\Users\\jmanu\\anaconda3\\lib\\site-packages\\yfinance\\base.py:1211\u001b[0m, in \u001b[0;36mTickerBase.get_income_stmt\u001b[1;34m(self, proxy, as_dict, pretty, freq, legacy)\u001b[0m\n\u001b[0;32m   1209\u001b[0m     data \u001b[39m=\u001b[39m \u001b[39mself\u001b[39m\u001b[39m.\u001b[39m_fundamentals\u001b[39m.\u001b[39mfinancials\u001b[39m.\u001b[39mget_income_scrape(freq\u001b[39m=\u001b[39mfreq, proxy\u001b[39m=\u001b[39mproxy)\n\u001b[0;32m   1210\u001b[0m \u001b[39melse\u001b[39;00m:\n\u001b[1;32m-> 1211\u001b[0m     data \u001b[39m=\u001b[39m \u001b[39mself\u001b[39;49m\u001b[39m.\u001b[39;49m_fundamentals\u001b[39m.\u001b[39;49mfinancials\u001b[39m.\u001b[39;49mget_income_time_series(freq\u001b[39m=\u001b[39;49mfreq, proxy\u001b[39m=\u001b[39;49mproxy)\n\u001b[0;32m   1213\u001b[0m \u001b[39mif\u001b[39;00m pretty:\n\u001b[0;32m   1214\u001b[0m     data \u001b[39m=\u001b[39m data\u001b[39m.\u001b[39mcopy()\n",
      "File \u001b[1;32mc:\\Users\\jmanu\\anaconda3\\lib\\site-packages\\yfinance\\scrapers\\fundamentals.py:115\u001b[0m, in \u001b[0;36mFinancials.get_income_time_series\u001b[1;34m(self, freq, proxy)\u001b[0m\n\u001b[0;32m    113\u001b[0m res \u001b[39m=\u001b[39m \u001b[39mself\u001b[39m\u001b[39m.\u001b[39m_income_time_series\n\u001b[0;32m    114\u001b[0m \u001b[39mif\u001b[39;00m freq \u001b[39mnot\u001b[39;00m \u001b[39min\u001b[39;00m res:\n\u001b[1;32m--> 115\u001b[0m     res[freq] \u001b[39m=\u001b[39m \u001b[39mself\u001b[39;49m\u001b[39m.\u001b[39;49m_fetch_time_series(\u001b[39m\"\u001b[39;49m\u001b[39mincome\u001b[39;49m\u001b[39m\"\u001b[39;49m, freq, proxy\u001b[39m=\u001b[39;49m\u001b[39mNone\u001b[39;49;00m)\n\u001b[0;32m    116\u001b[0m \u001b[39mreturn\u001b[39;00m res[freq]\n",
      "File \u001b[1;32mc:\\Users\\jmanu\\anaconda3\\lib\\site-packages\\yfinance\\scrapers\\fundamentals.py:144\u001b[0m, in \u001b[0;36mFinancials._fetch_time_series\u001b[1;34m(self, name, timescale, proxy)\u001b[0m\n\u001b[0;32m    141\u001b[0m     \u001b[39mraise\u001b[39;00m \u001b[39mValueError\u001b[39;00m(\u001b[39m\"\u001b[39m\u001b[39mIllegal argument: timescale must be one of: \u001b[39m\u001b[39m{}\u001b[39;00m\u001b[39m\"\u001b[39m\u001b[39m.\u001b[39mformat(allowed_names))\n\u001b[0;32m    143\u001b[0m \u001b[39mtry\u001b[39;00m:\n\u001b[1;32m--> 144\u001b[0m     statement \u001b[39m=\u001b[39m \u001b[39mself\u001b[39;49m\u001b[39m.\u001b[39;49m_create_financials_table(name, timescale, proxy)\n\u001b[0;32m    146\u001b[0m     \u001b[39mif\u001b[39;00m statement \u001b[39mis\u001b[39;00m \u001b[39mnot\u001b[39;00m \u001b[39mNone\u001b[39;00m:\n\u001b[0;32m    147\u001b[0m         \u001b[39mreturn\u001b[39;00m statement\n",
      "File \u001b[1;32mc:\\Users\\jmanu\\anaconda3\\lib\\site-packages\\yfinance\\scrapers\\fundamentals.py:157\u001b[0m, in \u001b[0;36mFinancials._create_financials_table\u001b[1;34m(self, name, timescale, proxy)\u001b[0m\n\u001b[0;32m    153\u001b[0m \u001b[39mif\u001b[39;00m name \u001b[39m==\u001b[39m \u001b[39m\"\u001b[39m\u001b[39mincome\u001b[39m\u001b[39m\"\u001b[39m:\n\u001b[0;32m    154\u001b[0m     \u001b[39m# Yahoo stores the 'income' table internally under 'financials' key\u001b[39;00m\n\u001b[0;32m    155\u001b[0m     name \u001b[39m=\u001b[39m \u001b[39m\"\u001b[39m\u001b[39mfinancials\u001b[39m\u001b[39m\"\u001b[39m\n\u001b[1;32m--> 157\u001b[0m keys \u001b[39m=\u001b[39m \u001b[39mself\u001b[39;49m\u001b[39m.\u001b[39;49m_get_datastore_keys(name, proxy)\n\u001b[0;32m    158\u001b[0m \u001b[39mtry\u001b[39;00m:\n\u001b[0;32m    159\u001b[0m     \u001b[39mreturn\u001b[39;00m \u001b[39mself\u001b[39m\u001b[39m.\u001b[39mget_financials_time_series(timescale, keys, proxy)\n",
      "File \u001b[1;32mc:\\Users\\jmanu\\anaconda3\\lib\\site-packages\\yfinance\\scrapers\\fundamentals.py:164\u001b[0m, in \u001b[0;36mFinancials._get_datastore_keys\u001b[1;34m(self, sub_page, proxy)\u001b[0m\n\u001b[0;32m    163\u001b[0m \u001b[39mdef\u001b[39;00m \u001b[39m_get_datastore_keys\u001b[39m(\u001b[39mself\u001b[39m, sub_page, proxy) \u001b[39m-\u001b[39m\u001b[39m>\u001b[39m \u001b[39mlist\u001b[39m:\n\u001b[1;32m--> 164\u001b[0m     data_stores \u001b[39m=\u001b[39m \u001b[39mself\u001b[39;49m\u001b[39m.\u001b[39;49m_data\u001b[39m.\u001b[39;49mget_json_data_stores(sub_page, proxy)\n\u001b[0;32m    166\u001b[0m     \u001b[39m# Step 1: get the keys:\u001b[39;00m\n\u001b[0;32m    167\u001b[0m     \u001b[39mdef\u001b[39;00m \u001b[39m_finditem1\u001b[39m(key, obj):\n",
      "File \u001b[1;32mc:\\Users\\jmanu\\anaconda3\\lib\\site-packages\\yfinance\\data.py:48\u001b[0m, in \u001b[0;36mlru_cache_freezeargs.<locals>.wrapped\u001b[1;34m(*args, **kwargs)\u001b[0m\n\u001b[0;32m     46\u001b[0m args \u001b[39m=\u001b[39m \u001b[39mtuple\u001b[39m([\u001b[39mtuple\u001b[39m(arg) \u001b[39mif\u001b[39;00m \u001b[39misinstance\u001b[39m(arg, \u001b[39mlist\u001b[39m) \u001b[39melse\u001b[39;00m arg \u001b[39mfor\u001b[39;00m arg \u001b[39min\u001b[39;00m args])\n\u001b[0;32m     47\u001b[0m kwargs \u001b[39m=\u001b[39m {k: \u001b[39mtuple\u001b[39m(v) \u001b[39mif\u001b[39;00m \u001b[39misinstance\u001b[39m(v, \u001b[39mlist\u001b[39m) \u001b[39melse\u001b[39;00m v \u001b[39mfor\u001b[39;00m k, v \u001b[39min\u001b[39;00m kwargs\u001b[39m.\u001b[39mitems()}\n\u001b[1;32m---> 48\u001b[0m \u001b[39mreturn\u001b[39;00m func(\u001b[39m*\u001b[39margs, \u001b[39m*\u001b[39m\u001b[39m*\u001b[39mkwargs)\n",
      "File \u001b[1;32mc:\\Users\\jmanu\\anaconda3\\lib\\site-packages\\yfinance\\data.py:323\u001b[0m, in \u001b[0;36mTickerData.get_json_data_stores\u001b[1;34m(self, sub_page, proxy)\u001b[0m\n\u001b[0;32m    320\u001b[0m     keys \u001b[39m+\u001b[39m\u001b[39m=\u001b[39m response_gh\u001b[39m.\u001b[39mtext\u001b[39m.\u001b[39msplitlines()\n\u001b[0;32m    322\u001b[0m \u001b[39m# Decrypt!\u001b[39;00m\n\u001b[1;32m--> 323\u001b[0m stores \u001b[39m=\u001b[39m decrypt_cryptojs_aes_stores(data, keys)\n\u001b[0;32m    324\u001b[0m \u001b[39mif\u001b[39;00m stores \u001b[39mis\u001b[39;00m \u001b[39mNone\u001b[39;00m:\n\u001b[0;32m    325\u001b[0m     \u001b[39m# Maybe Yahoo returned old format, not encrypted\u001b[39;00m\n\u001b[0;32m    326\u001b[0m     \u001b[39mif\u001b[39;00m \u001b[39m\"\u001b[39m\u001b[39mcontext\u001b[39m\u001b[39m\"\u001b[39m \u001b[39min\u001b[39;00m data \u001b[39mand\u001b[39;00m \u001b[39m\"\u001b[39m\u001b[39mdispatcher\u001b[39m\u001b[39m\"\u001b[39m \u001b[39min\u001b[39;00m data[\u001b[39m\"\u001b[39m\u001b[39mcontext\u001b[39m\u001b[39m\"\u001b[39m]:\n",
      "File \u001b[1;32mc:\\Users\\jmanu\\anaconda3\\lib\\site-packages\\yfinance\\data.py:169\u001b[0m, in \u001b[0;36mdecrypt_cryptojs_aes_stores\u001b[1;34m(data, keys)\u001b[0m\n\u001b[0;32m    167\u001b[0m             \u001b[39mpass\u001b[39;00m\n\u001b[0;32m    168\u001b[0m     \u001b[39mif\u001b[39;00m \u001b[39mnot\u001b[39;00m success:\n\u001b[1;32m--> 169\u001b[0m         \u001b[39mraise\u001b[39;00m \u001b[39mException\u001b[39;00m(\u001b[39m\"\u001b[39m\u001b[39myfinance failed to decrypt Yahoo data response\u001b[39m\u001b[39m\"\u001b[39m)\n\u001b[0;32m    171\u001b[0m decoded_stores \u001b[39m=\u001b[39m json\u001b[39m.\u001b[39mloads(plaintext)\n\u001b[0;32m    172\u001b[0m \u001b[39mreturn\u001b[39;00m decoded_stores\n",
      "\u001b[1;31mException\u001b[0m: yfinance failed to decrypt Yahoo data response"
     ]
    }
   ],
   "source": [
    "import yfinance as yf\n",
    "\n",
    "# Define the stock symbol\n",
    "stock_symbol = 'GOOGL'  # Replace with your desired stock symbol\n",
    "\n",
    "# Fetch financial data using yfinance\n",
    "stock_data = yf.Ticker(stock_symbol)\n",
    "\n",
    "# Get the financial statements\n",
    "stock_data.financials\n"
   ]
  },
  {
   "attachments": {},
   "cell_type": "markdown",
   "metadata": {},
   "source": [
    "yahoo_fin"
   ]
  },
  {
   "attachments": {},
   "cell_type": "markdown",
   "metadata": {},
   "source": [
    "1.- Stock flutations"
   ]
  },
  {
   "cell_type": "code",
   "execution_count": 4,
   "metadata": {},
   "outputs": [],
   "source": [
    "from yahoo_fin import stock_info as si\n",
    "\n",
    "# Fetch historical stock data using yahoo_fin\n",
    "data = si.get_data('GOOGL', start_date=start_date, end_date=end_date)"
   ]
  },
  {
   "cell_type": "code",
   "execution_count": 7,
   "metadata": {},
   "outputs": [
    {
     "data": {
      "text/plain": [
       "2018-01-02     52.651001\n",
       "2018-01-03     53.696499\n",
       "2018-01-04     54.854500\n",
       "2018-01-05     55.172501\n",
       "2018-01-08     55.549999\n",
       "                 ...    \n",
       "2021-12-23    146.500000\n",
       "2021-12-27    147.255997\n",
       "2021-12-28    148.235992\n",
       "2021-12-29    146.644501\n",
       "2021-12-30    146.694000\n",
       "Name: open, Length: 1007, dtype: float64"
      ]
     },
     "execution_count": 7,
     "metadata": {},
     "output_type": "execute_result"
    }
   ],
   "source": []
  },
  {
   "attachments": {},
   "cell_type": "markdown",
   "metadata": {},
   "source": [
    "2.- Financials"
   ]
  },
  {
   "cell_type": "code",
   "execution_count": 68,
   "metadata": {},
   "outputs": [
    {
     "ename": "TypeError",
     "evalue": "string indices must be integers",
     "output_type": "error",
     "traceback": [
      "\u001b[1;31m---------------------------------------------------------------------------\u001b[0m",
      "\u001b[1;31mTypeError\u001b[0m                                 Traceback (most recent call last)",
      "\u001b[1;32mUntitled-1.ipynb Cell 12\u001b[0m in \u001b[0;36m<cell line: 5>\u001b[1;34m()\u001b[0m\n\u001b[0;32m      <a href='vscode-notebook-cell:Untitled-1.ipynb?jupyter-notebook#X33sdW50aXRsZWQ%3D?line=1'>2</a>\u001b[0m stock_symbol \u001b[39m=\u001b[39m \u001b[39m'\u001b[39m\u001b[39mAAPL\u001b[39m\u001b[39m'\u001b[39m  \u001b[39m# Replace with your desired stock symbol\u001b[39;00m\n\u001b[0;32m      <a href='vscode-notebook-cell:Untitled-1.ipynb?jupyter-notebook#X33sdW50aXRsZWQ%3D?line=3'>4</a>\u001b[0m \u001b[39m# Get the financials using yahoo_fin\u001b[39;00m\n\u001b[1;32m----> <a href='vscode-notebook-cell:Untitled-1.ipynb?jupyter-notebook#X33sdW50aXRsZWQ%3D?line=4'>5</a>\u001b[0m financials \u001b[39m=\u001b[39m si\u001b[39m.\u001b[39;49mget_financials(stock_symbol)\n\u001b[0;32m      <a href='vscode-notebook-cell:Untitled-1.ipynb?jupyter-notebook#X33sdW50aXRsZWQ%3D?line=6'>7</a>\u001b[0m si\u001b[39m.\u001b[39mget_company_info(stock_symbol)\n",
      "File \u001b[1;32mc:\\Users\\jmanu\\anaconda3\\lib\\site-packages\\yahoo_fin\\stock_info.py:497\u001b[0m, in \u001b[0;36mget_financials\u001b[1;34m(ticker, yearly, quarterly)\u001b[0m\n\u001b[0;32m    493\u001b[0m result \u001b[39m=\u001b[39m {}\n\u001b[0;32m    495\u001b[0m \u001b[39mif\u001b[39;00m yearly:\n\u001b[1;32m--> 497\u001b[0m     temp \u001b[39m=\u001b[39m json_info[\u001b[39m\"\u001b[39;49m\u001b[39mincomeStatementHistory\u001b[39;49m\u001b[39m\"\u001b[39;49m][\u001b[39m\"\u001b[39m\u001b[39mincomeStatementHistory\u001b[39m\u001b[39m\"\u001b[39m]\n\u001b[0;32m    498\u001b[0m     table \u001b[39m=\u001b[39m _parse_table(temp)\n\u001b[0;32m    499\u001b[0m     result[\u001b[39m\"\u001b[39m\u001b[39myearly_income_statement\u001b[39m\u001b[39m\"\u001b[39m] \u001b[39m=\u001b[39m table\n",
      "\u001b[1;31mTypeError\u001b[0m: string indices must be integers"
     ]
    }
   ],
   "source": [
    "# Define the stock symbol\n",
    "stock_symbol = 'AAPL'  # Replace with your desired stock symbol\n",
    "\n",
    "# Get the financials using yahoo_fin\n",
    "financials = si.get_financials(stock_symbol)\n",
    "\n",
    "si.get_company_info(stock_symbol)"
   ]
  }
 ],
 "metadata": {
  "kernelspec": {
   "display_name": "base",
   "language": "python",
   "name": "python3"
  },
  "language_info": {
   "codemirror_mode": {
    "name": "ipython",
    "version": 3
   },
   "file_extension": ".py",
   "mimetype": "text/x-python",
   "name": "python",
   "nbconvert_exporter": "python",
   "pygments_lexer": "ipython3",
   "version": "3.9.12"
  },
  "orig_nbformat": 4
 },
 "nbformat": 4,
 "nbformat_minor": 2
}
